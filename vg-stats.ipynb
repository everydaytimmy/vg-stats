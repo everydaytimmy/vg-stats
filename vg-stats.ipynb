{
 "metadata": {
  "language_info": {
   "codemirror_mode": {
    "name": "ipython",
    "version": 3
   },
   "file_extension": ".py",
   "mimetype": "text/x-python",
   "name": "python",
   "nbconvert_exporter": "python",
   "pygments_lexer": "ipython3",
   "version": "3.8.5"
  },
  "orig_nbformat": 2,
  "kernelspec": {
   "name": "python385jvsc74a57bd029bcb51144348a040005a2601c23d9123b484cad10dbe474d79ca1d2f8f6ecb9",
   "display_name": "Python 3.8.5  ('.venv': venv)"
  },
  "metadata": {
   "interpreter": {
    "hash": "aee8b7b246df8f9039afb4144a1f6fd8d2ca17a180786b69acc140d282b71a49"
   }
  }
 },
 "nbformat": 4,
 "nbformat_minor": 2,
 "cells": [
  {
   "source": [
    "### Video Game Sales Analysis\n",
    "\n",
    "Data set: vgsales\n",
    "\n",
    "Timothy Viccari June 2, 2021"
   ],
   "cell_type": "markdown",
   "metadata": {}
  },
  {
   "cell_type": "code",
   "execution_count": 2,
   "metadata": {},
   "outputs": [],
   "source": [
    "import pandas as pd"
   ]
  },
  {
   "cell_type": "code",
   "execution_count": 19,
   "metadata": {},
   "outputs": [
    {
     "output_type": "execute_result",
     "data": {
      "text/plain": [
       "   Rank                      Name Platform    Year         Genre Publisher  \\\n",
       "0     1                Wii Sports      Wii  2006.0        Sports  Nintendo   \n",
       "1     2         Super Mario Bros.      NES  1985.0      Platform  Nintendo   \n",
       "2     3            Mario Kart Wii      Wii  2008.0        Racing  Nintendo   \n",
       "3     4         Wii Sports Resort      Wii  2009.0        Sports  Nintendo   \n",
       "4     5  Pokemon Red/Pokemon Blue       GB  1996.0  Role-Playing  Nintendo   \n",
       "\n",
       "   NA_Sales  EU_Sales  JP_Sales  Other_Sales  Global_Sales  \n",
       "0     41.49     29.02      3.77         8.46         82.74  \n",
       "1     29.08      3.58      6.81         0.77         40.24  \n",
       "2     15.85     12.88      3.79         3.31         35.82  \n",
       "3     15.75     11.01      3.28         2.96         33.00  \n",
       "4     11.27      8.89     10.22         1.00         31.37  "
      ],
      "text/html": "<div>\n<style scoped>\n    .dataframe tbody tr th:only-of-type {\n        vertical-align: middle;\n    }\n\n    .dataframe tbody tr th {\n        vertical-align: top;\n    }\n\n    .dataframe thead th {\n        text-align: right;\n    }\n</style>\n<table border=\"1\" class=\"dataframe\">\n  <thead>\n    <tr style=\"text-align: right;\">\n      <th></th>\n      <th>Rank</th>\n      <th>Name</th>\n      <th>Platform</th>\n      <th>Year</th>\n      <th>Genre</th>\n      <th>Publisher</th>\n      <th>NA_Sales</th>\n      <th>EU_Sales</th>\n      <th>JP_Sales</th>\n      <th>Other_Sales</th>\n      <th>Global_Sales</th>\n    </tr>\n  </thead>\n  <tbody>\n    <tr>\n      <th>0</th>\n      <td>1</td>\n      <td>Wii Sports</td>\n      <td>Wii</td>\n      <td>2006.0</td>\n      <td>Sports</td>\n      <td>Nintendo</td>\n      <td>41.49</td>\n      <td>29.02</td>\n      <td>3.77</td>\n      <td>8.46</td>\n      <td>82.74</td>\n    </tr>\n    <tr>\n      <th>1</th>\n      <td>2</td>\n      <td>Super Mario Bros.</td>\n      <td>NES</td>\n      <td>1985.0</td>\n      <td>Platform</td>\n      <td>Nintendo</td>\n      <td>29.08</td>\n      <td>3.58</td>\n      <td>6.81</td>\n      <td>0.77</td>\n      <td>40.24</td>\n    </tr>\n    <tr>\n      <th>2</th>\n      <td>3</td>\n      <td>Mario Kart Wii</td>\n      <td>Wii</td>\n      <td>2008.0</td>\n      <td>Racing</td>\n      <td>Nintendo</td>\n      <td>15.85</td>\n      <td>12.88</td>\n      <td>3.79</td>\n      <td>3.31</td>\n      <td>35.82</td>\n    </tr>\n    <tr>\n      <th>3</th>\n      <td>4</td>\n      <td>Wii Sports Resort</td>\n      <td>Wii</td>\n      <td>2009.0</td>\n      <td>Sports</td>\n      <td>Nintendo</td>\n      <td>15.75</td>\n      <td>11.01</td>\n      <td>3.28</td>\n      <td>2.96</td>\n      <td>33.00</td>\n    </tr>\n    <tr>\n      <th>4</th>\n      <td>5</td>\n      <td>Pokemon Red/Pokemon Blue</td>\n      <td>GB</td>\n      <td>1996.0</td>\n      <td>Role-Playing</td>\n      <td>Nintendo</td>\n      <td>11.27</td>\n      <td>8.89</td>\n      <td>10.22</td>\n      <td>1.00</td>\n      <td>31.37</td>\n    </tr>\n  </tbody>\n</table>\n</div>"
     },
     "metadata": {},
     "execution_count": 19
    }
   ],
   "source": [
    "df = pd.read_csv('./vgsales.csv')\n",
    "df.head()"
   ]
  },
  {
   "source": [
    "### Most Common Publisher"
   ],
   "cell_type": "markdown",
   "metadata": {}
  },
  {
   "cell_type": "code",
   "execution_count": 157,
   "metadata": {},
   "outputs": [
    {
     "output_type": "execute_result",
     "data": {
      "text/plain": [
       "'Electronic Arts'"
      ]
     },
     "metadata": {},
     "execution_count": 157
    }
   ],
   "source": [
    "most_common_publisher = df['Publisher'].mode()[0]\n",
    "most_common_publisher"
   ]
  },
  {
   "source": [
    "### Most Common Platform"
   ],
   "cell_type": "markdown",
   "metadata": {}
  },
  {
   "cell_type": "code",
   "execution_count": 159,
   "metadata": {},
   "outputs": [
    {
     "output_type": "execute_result",
     "data": {
      "text/plain": [
       "'DS'"
      ]
     },
     "metadata": {},
     "execution_count": 159
    }
   ],
   "source": [
    "most_common_platform = df['Platform'].mode()[0]\n",
    "most_common_platform"
   ]
  },
  {
   "source": [
    "### Most Common Genre"
   ],
   "cell_type": "markdown",
   "metadata": {}
  },
  {
   "cell_type": "code",
   "execution_count": 161,
   "metadata": {},
   "outputs": [
    {
     "output_type": "execute_result",
     "data": {
      "text/plain": [
       "'Action'"
      ]
     },
     "metadata": {},
     "execution_count": 161
    }
   ],
   "source": [
    "most_common_genre = df['Genre'].mode()[0]\n",
    "most_common_genre"
   ]
  },
  {
   "source": [
    "### Top 20 Highest Grossing Games"
   ],
   "cell_type": "markdown",
   "metadata": {}
  },
  {
   "source": [
    "top_twenty_highest_grossing_games = df[['Name','Global_Sales']].sort_values('Global_Sales', ascending =False).head(20).set_index(\"Global_Sales\")\n",
    "top_twenty_highest_grossing_games"
   ],
   "cell_type": "code",
   "metadata": {},
   "execution_count": 162,
   "outputs": [
    {
     "output_type": "execute_result",
     "data": {
      "text/plain": [
       "                                                      Name\n",
       "Global_Sales                                              \n",
       "82.74                                           Wii Sports\n",
       "40.24                                    Super Mario Bros.\n",
       "35.82                                       Mario Kart Wii\n",
       "33.00                                    Wii Sports Resort\n",
       "31.37                             Pokemon Red/Pokemon Blue\n",
       "30.26                                               Tetris\n",
       "30.01                                New Super Mario Bros.\n",
       "29.02                                             Wii Play\n",
       "28.62                            New Super Mario Bros. Wii\n",
       "28.31                                            Duck Hunt\n",
       "24.76                                           Nintendogs\n",
       "23.42                                        Mario Kart DS\n",
       "23.10                          Pokemon Gold/Pokemon Silver\n",
       "22.72                                              Wii Fit\n",
       "22.00                                         Wii Fit Plus\n",
       "21.82                                   Kinect Adventures!\n",
       "21.40                                   Grand Theft Auto V\n",
       "20.81                        Grand Theft Auto: San Andreas\n",
       "20.61                                    Super Mario World\n",
       "20.22         Brain Age: Train Your Brain in Minutes a Day"
      ],
      "text/html": "<div>\n<style scoped>\n    .dataframe tbody tr th:only-of-type {\n        vertical-align: middle;\n    }\n\n    .dataframe tbody tr th {\n        vertical-align: top;\n    }\n\n    .dataframe thead th {\n        text-align: right;\n    }\n</style>\n<table border=\"1\" class=\"dataframe\">\n  <thead>\n    <tr style=\"text-align: right;\">\n      <th></th>\n      <th>Name</th>\n    </tr>\n    <tr>\n      <th>Global_Sales</th>\n      <th></th>\n    </tr>\n  </thead>\n  <tbody>\n    <tr>\n      <th>82.74</th>\n      <td>Wii Sports</td>\n    </tr>\n    <tr>\n      <th>40.24</th>\n      <td>Super Mario Bros.</td>\n    </tr>\n    <tr>\n      <th>35.82</th>\n      <td>Mario Kart Wii</td>\n    </tr>\n    <tr>\n      <th>33.00</th>\n      <td>Wii Sports Resort</td>\n    </tr>\n    <tr>\n      <th>31.37</th>\n      <td>Pokemon Red/Pokemon Blue</td>\n    </tr>\n    <tr>\n      <th>30.26</th>\n      <td>Tetris</td>\n    </tr>\n    <tr>\n      <th>30.01</th>\n      <td>New Super Mario Bros.</td>\n    </tr>\n    <tr>\n      <th>29.02</th>\n      <td>Wii Play</td>\n    </tr>\n    <tr>\n      <th>28.62</th>\n      <td>New Super Mario Bros. Wii</td>\n    </tr>\n    <tr>\n      <th>28.31</th>\n      <td>Duck Hunt</td>\n    </tr>\n    <tr>\n      <th>24.76</th>\n      <td>Nintendogs</td>\n    </tr>\n    <tr>\n      <th>23.42</th>\n      <td>Mario Kart DS</td>\n    </tr>\n    <tr>\n      <th>23.10</th>\n      <td>Pokemon Gold/Pokemon Silver</td>\n    </tr>\n    <tr>\n      <th>22.72</th>\n      <td>Wii Fit</td>\n    </tr>\n    <tr>\n      <th>22.00</th>\n      <td>Wii Fit Plus</td>\n    </tr>\n    <tr>\n      <th>21.82</th>\n      <td>Kinect Adventures!</td>\n    </tr>\n    <tr>\n      <th>21.40</th>\n      <td>Grand Theft Auto V</td>\n    </tr>\n    <tr>\n      <th>20.81</th>\n      <td>Grand Theft Auto: San Andreas</td>\n    </tr>\n    <tr>\n      <th>20.61</th>\n      <td>Super Mario World</td>\n    </tr>\n    <tr>\n      <th>20.22</th>\n      <td>Brain Age: Train Your Brain in Minutes a Day</td>\n    </tr>\n  </tbody>\n</table>\n</div>"
     },
     "metadata": {},
     "execution_count": 162
    }
   ]
  },
  {
   "source": [
    "### Median Sales in North America (in Millions)"
   ],
   "cell_type": "markdown",
   "metadata": {}
  },
  {
   "cell_type": "code",
   "execution_count": 172,
   "metadata": {},
   "outputs": [
    {
     "output_type": "execute_result",
     "data": {
      "text/plain": [
       "      Rank                                               Name Platform  \\\n",
       "446    447                                  Dragon Warrior IV      NES   \n",
       "497    498        World Soccer Winning Eleven 7 International      PS2   \n",
       "1617  1619                             Farming Simulator 2015       PC   \n",
       "1926  1928                          Pro Evolution Soccer 2008     X360   \n",
       "2067  2069  Winning Eleven: Pro Evolution Soccer 2007 (All...     X360   \n",
       "2373  2375                           Phantasy Star Portable 2      PSP   \n",
       "2579  2581                               The Sims 2: Castaway      PSP   \n",
       "3186  3188                                     SingStar Queen      PS2   \n",
       "3503  3505                                         Top Spin 3      PS3   \n",
       "3703  3705               Sonic & All-Stars Racing Transformed      PS3   \n",
       "\n",
       "        Year         Genre                     Publisher  NA_Sales  EU_Sales  \\\n",
       "446   1990.0  Role-Playing              Enix Corporation      0.08      0.00   \n",
       "497   2003.0        Sports  Konami Digital Entertainment      0.08      1.24   \n",
       "1617  2014.0    Simulation        Focus Home Interactive      0.08      1.02   \n",
       "1926  2007.0        Sports  Konami Digital Entertainment      0.08      0.90   \n",
       "2067  2006.0        Sports  Konami Digital Entertainment      0.08      0.90   \n",
       "2373  2009.0  Role-Playing                          Sega      0.08      0.11   \n",
       "2579  2007.0    Simulation               Electronic Arts      0.08      0.46   \n",
       "3186  2009.0          Misc   Sony Computer Entertainment      0.08      0.12   \n",
       "3503  2008.0        Action          Take-Two Interactive      0.08      0.37   \n",
       "3703  2012.0        Racing                          Sega      0.08      0.33   \n",
       "\n",
       "      JP_Sales  Other_Sales  Global_Sales  \n",
       "446       3.03         0.01          3.12  \n",
       "497       1.13         0.45          2.90  \n",
       "1617      0.00         0.13          1.23  \n",
       "1926      0.04         0.05          1.07  \n",
       "2067      0.02         0.00          1.00  \n",
       "2373      0.62         0.06          0.88  \n",
       "2579      0.00         0.25          0.80  \n",
       "3186      0.00         0.44          0.63  \n",
       "3503      0.00         0.12          0.57  \n",
       "3703      0.01         0.11          0.54  "
      ],
      "text/html": "<div>\n<style scoped>\n    .dataframe tbody tr th:only-of-type {\n        vertical-align: middle;\n    }\n\n    .dataframe tbody tr th {\n        vertical-align: top;\n    }\n\n    .dataframe thead th {\n        text-align: right;\n    }\n</style>\n<table border=\"1\" class=\"dataframe\">\n  <thead>\n    <tr style=\"text-align: right;\">\n      <th></th>\n      <th>Rank</th>\n      <th>Name</th>\n      <th>Platform</th>\n      <th>Year</th>\n      <th>Genre</th>\n      <th>Publisher</th>\n      <th>NA_Sales</th>\n      <th>EU_Sales</th>\n      <th>JP_Sales</th>\n      <th>Other_Sales</th>\n      <th>Global_Sales</th>\n    </tr>\n  </thead>\n  <tbody>\n    <tr>\n      <th>446</th>\n      <td>447</td>\n      <td>Dragon Warrior IV</td>\n      <td>NES</td>\n      <td>1990.0</td>\n      <td>Role-Playing</td>\n      <td>Enix Corporation</td>\n      <td>0.08</td>\n      <td>0.00</td>\n      <td>3.03</td>\n      <td>0.01</td>\n      <td>3.12</td>\n    </tr>\n    <tr>\n      <th>497</th>\n      <td>498</td>\n      <td>World Soccer Winning Eleven 7 International</td>\n      <td>PS2</td>\n      <td>2003.0</td>\n      <td>Sports</td>\n      <td>Konami Digital Entertainment</td>\n      <td>0.08</td>\n      <td>1.24</td>\n      <td>1.13</td>\n      <td>0.45</td>\n      <td>2.90</td>\n    </tr>\n    <tr>\n      <th>1617</th>\n      <td>1619</td>\n      <td>Farming Simulator 2015</td>\n      <td>PC</td>\n      <td>2014.0</td>\n      <td>Simulation</td>\n      <td>Focus Home Interactive</td>\n      <td>0.08</td>\n      <td>1.02</td>\n      <td>0.00</td>\n      <td>0.13</td>\n      <td>1.23</td>\n    </tr>\n    <tr>\n      <th>1926</th>\n      <td>1928</td>\n      <td>Pro Evolution Soccer 2008</td>\n      <td>X360</td>\n      <td>2007.0</td>\n      <td>Sports</td>\n      <td>Konami Digital Entertainment</td>\n      <td>0.08</td>\n      <td>0.90</td>\n      <td>0.04</td>\n      <td>0.05</td>\n      <td>1.07</td>\n    </tr>\n    <tr>\n      <th>2067</th>\n      <td>2069</td>\n      <td>Winning Eleven: Pro Evolution Soccer 2007 (All...</td>\n      <td>X360</td>\n      <td>2006.0</td>\n      <td>Sports</td>\n      <td>Konami Digital Entertainment</td>\n      <td>0.08</td>\n      <td>0.90</td>\n      <td>0.02</td>\n      <td>0.00</td>\n      <td>1.00</td>\n    </tr>\n    <tr>\n      <th>2373</th>\n      <td>2375</td>\n      <td>Phantasy Star Portable 2</td>\n      <td>PSP</td>\n      <td>2009.0</td>\n      <td>Role-Playing</td>\n      <td>Sega</td>\n      <td>0.08</td>\n      <td>0.11</td>\n      <td>0.62</td>\n      <td>0.06</td>\n      <td>0.88</td>\n    </tr>\n    <tr>\n      <th>2579</th>\n      <td>2581</td>\n      <td>The Sims 2: Castaway</td>\n      <td>PSP</td>\n      <td>2007.0</td>\n      <td>Simulation</td>\n      <td>Electronic Arts</td>\n      <td>0.08</td>\n      <td>0.46</td>\n      <td>0.00</td>\n      <td>0.25</td>\n      <td>0.80</td>\n    </tr>\n    <tr>\n      <th>3186</th>\n      <td>3188</td>\n      <td>SingStar Queen</td>\n      <td>PS2</td>\n      <td>2009.0</td>\n      <td>Misc</td>\n      <td>Sony Computer Entertainment</td>\n      <td>0.08</td>\n      <td>0.12</td>\n      <td>0.00</td>\n      <td>0.44</td>\n      <td>0.63</td>\n    </tr>\n    <tr>\n      <th>3503</th>\n      <td>3505</td>\n      <td>Top Spin 3</td>\n      <td>PS3</td>\n      <td>2008.0</td>\n      <td>Action</td>\n      <td>Take-Two Interactive</td>\n      <td>0.08</td>\n      <td>0.37</td>\n      <td>0.00</td>\n      <td>0.12</td>\n      <td>0.57</td>\n    </tr>\n    <tr>\n      <th>3703</th>\n      <td>3705</td>\n      <td>Sonic &amp; All-Stars Racing Transformed</td>\n      <td>PS3</td>\n      <td>2012.0</td>\n      <td>Racing</td>\n      <td>Sega</td>\n      <td>0.08</td>\n      <td>0.33</td>\n      <td>0.01</td>\n      <td>0.11</td>\n      <td>0.54</td>\n    </tr>\n  </tbody>\n</table>\n</div>"
     },
     "metadata": {},
     "execution_count": 172
    }
   ],
   "source": [
    "na_median_sales = df['NA_Sales'].median()\n",
    "df[df['NA_Sales'] == .08].head(10)"
   ]
  },
  {
   "source": [
    "### Stdev of top selling game from average"
   ],
   "cell_type": "markdown",
   "metadata": {}
  },
  {
   "cell_type": "code",
   "execution_count": 91,
   "metadata": {},
   "outputs": [
    {
     "output_type": "stream",
     "name": "stdout",
     "text": [
      "The top selling game in North America is 50.48 standard deviations from the mean\n"
     ]
    }
   ],
   "source": [
    "max = df[['NA_Sales']].max()[0]\n",
    "stdev = df[['NA_Sales']].std()[0]\n",
    "mean = df[['NA_Sales']].mean()[0]\n",
    "answer = ((max-mean)/stdev).round(2)\n",
    "\n",
    "print(f'The top selling game in North America is {answer} standard deviations from the mean')"
   ]
  },
  {
   "cell_type": "code",
   "execution_count": 139,
   "metadata": {},
   "outputs": [
    {
     "output_type": "stream",
     "name": "stdout",
     "text": [
      "Wii sales crushed it. Their average global revenue per game is $161963.0 more then the average platform sales which represents a 30.0 percent increase\n"
     ]
    }
   ],
   "source": [
    "mean_sales = df[['Global_Sales']].mean()[0]\n",
    "wii = df[df['Platform'] == 'Wii']\n",
    "wii_avg = wii[['Global_Sales']].mean()[0]\n",
    "difference = ((wii_avg - mean_sales)*1000000).round(0)\n",
    "percent = ((wii_avg - mean_sales)/mean_sales*100).round(0)\n",
    "print(f'Wii sales crushed it. Their average global revenue per game is ${difference} more then the average platform sales which represents a {percent} percent increase')\n"
   ]
  },
  {
   "source": [
    "### Global Sales trends through the years"
   ],
   "cell_type": "markdown",
   "metadata": {}
  },
  {
   "cell_type": "code",
   "execution_count": 150,
   "metadata": {},
   "outputs": [
    {
     "output_type": "execute_result",
     "data": {
      "text/plain": [
       "        Global_Sales\n",
       "Year                \n",
       "1980.0         11.38\n",
       "1981.0         35.77\n",
       "1982.0         28.86\n",
       "1983.0         16.79\n",
       "1984.0         50.36\n",
       "1985.0         53.94\n",
       "1986.0         37.07\n",
       "1987.0         21.74\n",
       "1988.0         47.22\n",
       "1989.0         73.45\n",
       "1990.0         49.39\n",
       "1991.0         32.23\n",
       "1992.0         76.16\n",
       "1993.0         45.98\n",
       "1994.0         79.17\n",
       "1995.0         88.11\n",
       "1996.0        199.15\n",
       "1997.0        200.98\n",
       "1998.0        256.47\n",
       "1999.0        251.27\n",
       "2000.0        201.56\n",
       "2001.0        331.47\n",
       "2002.0        395.52\n",
       "2003.0        357.85\n",
       "2004.0        419.31\n",
       "2005.0        459.94\n",
       "2006.0        521.04\n",
       "2007.0        611.13\n",
       "2008.0        678.90\n",
       "2009.0        667.30\n",
       "2010.0        600.45\n",
       "2011.0        515.99\n",
       "2012.0        363.54\n",
       "2013.0        368.11\n",
       "2014.0        337.05\n",
       "2015.0        264.44\n",
       "2016.0         70.93\n",
       "2017.0          0.05\n",
       "2020.0          0.29"
      ],
      "text/html": "<div>\n<style scoped>\n    .dataframe tbody tr th:only-of-type {\n        vertical-align: middle;\n    }\n\n    .dataframe tbody tr th {\n        vertical-align: top;\n    }\n\n    .dataframe thead th {\n        text-align: right;\n    }\n</style>\n<table border=\"1\" class=\"dataframe\">\n  <thead>\n    <tr style=\"text-align: right;\">\n      <th></th>\n      <th>Global_Sales</th>\n    </tr>\n    <tr>\n      <th>Year</th>\n      <th></th>\n    </tr>\n  </thead>\n  <tbody>\n    <tr>\n      <th>1980.0</th>\n      <td>11.38</td>\n    </tr>\n    <tr>\n      <th>1981.0</th>\n      <td>35.77</td>\n    </tr>\n    <tr>\n      <th>1982.0</th>\n      <td>28.86</td>\n    </tr>\n    <tr>\n      <th>1983.0</th>\n      <td>16.79</td>\n    </tr>\n    <tr>\n      <th>1984.0</th>\n      <td>50.36</td>\n    </tr>\n    <tr>\n      <th>1985.0</th>\n      <td>53.94</td>\n    </tr>\n    <tr>\n      <th>1986.0</th>\n      <td>37.07</td>\n    </tr>\n    <tr>\n      <th>1987.0</th>\n      <td>21.74</td>\n    </tr>\n    <tr>\n      <th>1988.0</th>\n      <td>47.22</td>\n    </tr>\n    <tr>\n      <th>1989.0</th>\n      <td>73.45</td>\n    </tr>\n    <tr>\n      <th>1990.0</th>\n      <td>49.39</td>\n    </tr>\n    <tr>\n      <th>1991.0</th>\n      <td>32.23</td>\n    </tr>\n    <tr>\n      <th>1992.0</th>\n      <td>76.16</td>\n    </tr>\n    <tr>\n      <th>1993.0</th>\n      <td>45.98</td>\n    </tr>\n    <tr>\n      <th>1994.0</th>\n      <td>79.17</td>\n    </tr>\n    <tr>\n      <th>1995.0</th>\n      <td>88.11</td>\n    </tr>\n    <tr>\n      <th>1996.0</th>\n      <td>199.15</td>\n    </tr>\n    <tr>\n      <th>1997.0</th>\n      <td>200.98</td>\n    </tr>\n    <tr>\n      <th>1998.0</th>\n      <td>256.47</td>\n    </tr>\n    <tr>\n      <th>1999.0</th>\n      <td>251.27</td>\n    </tr>\n    <tr>\n      <th>2000.0</th>\n      <td>201.56</td>\n    </tr>\n    <tr>\n      <th>2001.0</th>\n      <td>331.47</td>\n    </tr>\n    <tr>\n      <th>2002.0</th>\n      <td>395.52</td>\n    </tr>\n    <tr>\n      <th>2003.0</th>\n      <td>357.85</td>\n    </tr>\n    <tr>\n      <th>2004.0</th>\n      <td>419.31</td>\n    </tr>\n    <tr>\n      <th>2005.0</th>\n      <td>459.94</td>\n    </tr>\n    <tr>\n      <th>2006.0</th>\n      <td>521.04</td>\n    </tr>\n    <tr>\n      <th>2007.0</th>\n      <td>611.13</td>\n    </tr>\n    <tr>\n      <th>2008.0</th>\n      <td>678.90</td>\n    </tr>\n    <tr>\n      <th>2009.0</th>\n      <td>667.30</td>\n    </tr>\n    <tr>\n      <th>2010.0</th>\n      <td>600.45</td>\n    </tr>\n    <tr>\n      <th>2011.0</th>\n      <td>515.99</td>\n    </tr>\n    <tr>\n      <th>2012.0</th>\n      <td>363.54</td>\n    </tr>\n    <tr>\n      <th>2013.0</th>\n      <td>368.11</td>\n    </tr>\n    <tr>\n      <th>2014.0</th>\n      <td>337.05</td>\n    </tr>\n    <tr>\n      <th>2015.0</th>\n      <td>264.44</td>\n    </tr>\n    <tr>\n      <th>2016.0</th>\n      <td>70.93</td>\n    </tr>\n    <tr>\n      <th>2017.0</th>\n      <td>0.05</td>\n    </tr>\n    <tr>\n      <th>2020.0</th>\n      <td>0.29</td>\n    </tr>\n  </tbody>\n</table>\n</div>"
     },
     "metadata": {},
     "execution_count": 150
    }
   ],
   "source": [
    "df[['Year', 'Platform', 'Global_Sales']].groupby(\"Year\").sum()\n"
   ]
  },
  {
   "cell_type": "code",
   "execution_count": 175,
   "metadata": {},
   "outputs": [
    {
     "output_type": "stream",
     "name": "stdout",
     "text": [
      "Success!!!\n"
     ]
    }
   ],
   "source": [
    "def test():\n",
    "\n",
    "    def assert_equal(actual,expected):\n",
    "        assert actual == expected, f\"Expected {expected} but got {actual}\"\n",
    "\n",
    "    assert_equal(most_common_publisher, \"Electronic Arts\")\n",
    "    assert_equal(most_common_platform, \"DS\")\n",
    "    assert_equal(most_common_genre, \"Action\")\n",
    "    assert_equal(top_twenty_highest_grossing_games.iloc[0].Name, 'Wii Sports')\n",
    "    assert_equal(top_twenty_highest_grossing_games.iloc[19].Name, 'Brain Age: Train Your Brain in Minutes a Day')\n",
    "    assert_equal(na_median_sales, .08)\n",
    "    assert_equal(difference, 161963.0)\n",
    "    assert_equal(percent, 30.0)\n",
    "\n",
    "    print(\"Success!!!\")\n",
    "\n",
    "test()"
   ]
  },
  {
   "cell_type": "code",
   "execution_count": null,
   "metadata": {},
   "outputs": [],
   "source": []
  }
 ]
}