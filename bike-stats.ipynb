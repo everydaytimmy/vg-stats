{
 "metadata": {
  "language_info": {
   "codemirror_mode": {
    "name": "ipython",
    "version": 3
   },
   "file_extension": ".py",
   "mimetype": "text/x-python",
   "name": "python",
   "nbconvert_exporter": "python",
   "pygments_lexer": "ipython3",
   "version": "3.8.5"
  },
  "orig_nbformat": 2,
  "kernelspec": {
   "name": "python385jvsc74a57bd029bcb51144348a040005a2601c23d9123b484cad10dbe474d79ca1d2f8f6ecb9",
   "display_name": "Python 3.8.5  ('.venv': venv)"
  }
 },
 "nbformat": 4,
 "nbformat_minor": 2,
 "cells": [
  {
   "cell_type": "code",
   "execution_count": 8,
   "metadata": {},
   "outputs": [],
   "source": [
    "import pandas as pd"
   ]
  },
  {
   "cell_type": "code",
   "execution_count": 34,
   "metadata": {},
   "outputs": [
    {
     "output_type": "stream",
     "name": "stderr",
     "text": [
      "b'Skipping line 50794: expected 12 fields, saw 20\\n'\n"
     ]
    },
    {
     "output_type": "execute_result",
     "data": {
      "text/plain": [
       "   trip_id         starttime          stoptime    bikeid  tripduration  \\\n",
       "0      431  10/13/2014 10:31  10/13/2014 10:48  SEA00298       985.935   \n",
       "1      432  10/13/2014 10:32  10/13/2014 10:48  SEA00195       926.375   \n",
       "2      433  10/13/2014 10:33  10/13/2014 10:48  SEA00486       883.831   \n",
       "3      434  10/13/2014 10:34  10/13/2014 10:48  SEA00333       865.937   \n",
       "4      435  10/13/2014 10:34  10/13/2014 10:49  SEA00202       923.923   \n",
       "\n",
       "     from_station_name                                    to_station_name  \\\n",
       "0  2nd Ave & Spring St  Occidental Park / Occidental Ave S & S Washing...   \n",
       "1  2nd Ave & Spring St  Occidental Park / Occidental Ave S & S Washing...   \n",
       "2  2nd Ave & Spring St  Occidental Park / Occidental Ave S & S Washing...   \n",
       "3  2nd Ave & Spring St  Occidental Park / Occidental Ave S & S Washing...   \n",
       "4  2nd Ave & Spring St  Occidental Park / Occidental Ave S & S Washing...   \n",
       "\n",
       "  from_station_id to_station_id usertype  gender  birthyear  \n",
       "0          CBD-06         PS-04   Member    Male     1960.0  \n",
       "1          CBD-06         PS-04   Member    Male     1970.0  \n",
       "2          CBD-06         PS-04   Member  Female     1988.0  \n",
       "3          CBD-06         PS-04   Member  Female     1977.0  \n",
       "4          CBD-06         PS-04   Member    Male     1971.0  "
      ],
      "text/html": "<div>\n<style scoped>\n    .dataframe tbody tr th:only-of-type {\n        vertical-align: middle;\n    }\n\n    .dataframe tbody tr th {\n        vertical-align: top;\n    }\n\n    .dataframe thead th {\n        text-align: right;\n    }\n</style>\n<table border=\"1\" class=\"dataframe\">\n  <thead>\n    <tr style=\"text-align: right;\">\n      <th></th>\n      <th>trip_id</th>\n      <th>starttime</th>\n      <th>stoptime</th>\n      <th>bikeid</th>\n      <th>tripduration</th>\n      <th>from_station_name</th>\n      <th>to_station_name</th>\n      <th>from_station_id</th>\n      <th>to_station_id</th>\n      <th>usertype</th>\n      <th>gender</th>\n      <th>birthyear</th>\n    </tr>\n  </thead>\n  <tbody>\n    <tr>\n      <th>0</th>\n      <td>431</td>\n      <td>10/13/2014 10:31</td>\n      <td>10/13/2014 10:48</td>\n      <td>SEA00298</td>\n      <td>985.935</td>\n      <td>2nd Ave &amp; Spring St</td>\n      <td>Occidental Park / Occidental Ave S &amp; S Washing...</td>\n      <td>CBD-06</td>\n      <td>PS-04</td>\n      <td>Member</td>\n      <td>Male</td>\n      <td>1960.0</td>\n    </tr>\n    <tr>\n      <th>1</th>\n      <td>432</td>\n      <td>10/13/2014 10:32</td>\n      <td>10/13/2014 10:48</td>\n      <td>SEA00195</td>\n      <td>926.375</td>\n      <td>2nd Ave &amp; Spring St</td>\n      <td>Occidental Park / Occidental Ave S &amp; S Washing...</td>\n      <td>CBD-06</td>\n      <td>PS-04</td>\n      <td>Member</td>\n      <td>Male</td>\n      <td>1970.0</td>\n    </tr>\n    <tr>\n      <th>2</th>\n      <td>433</td>\n      <td>10/13/2014 10:33</td>\n      <td>10/13/2014 10:48</td>\n      <td>SEA00486</td>\n      <td>883.831</td>\n      <td>2nd Ave &amp; Spring St</td>\n      <td>Occidental Park / Occidental Ave S &amp; S Washing...</td>\n      <td>CBD-06</td>\n      <td>PS-04</td>\n      <td>Member</td>\n      <td>Female</td>\n      <td>1988.0</td>\n    </tr>\n    <tr>\n      <th>3</th>\n      <td>434</td>\n      <td>10/13/2014 10:34</td>\n      <td>10/13/2014 10:48</td>\n      <td>SEA00333</td>\n      <td>865.937</td>\n      <td>2nd Ave &amp; Spring St</td>\n      <td>Occidental Park / Occidental Ave S &amp; S Washing...</td>\n      <td>CBD-06</td>\n      <td>PS-04</td>\n      <td>Member</td>\n      <td>Female</td>\n      <td>1977.0</td>\n    </tr>\n    <tr>\n      <th>4</th>\n      <td>435</td>\n      <td>10/13/2014 10:34</td>\n      <td>10/13/2014 10:49</td>\n      <td>SEA00202</td>\n      <td>923.923</td>\n      <td>2nd Ave &amp; Spring St</td>\n      <td>Occidental Park / Occidental Ave S &amp; S Washing...</td>\n      <td>CBD-06</td>\n      <td>PS-04</td>\n      <td>Member</td>\n      <td>Male</td>\n      <td>1971.0</td>\n    </tr>\n  </tbody>\n</table>\n</div>"
     },
     "metadata": {},
     "execution_count": 34
    }
   ],
   "source": [
    "trip = pd.read_csv('./trip.csv', error_bad_lines=False)\n",
    "trip.head()"
   ]
  },
  {
   "cell_type": "code",
   "execution_count": 35,
   "metadata": {},
   "outputs": [
    {
     "output_type": "execute_result",
     "data": {
      "text/plain": [
       "         Date  Max_Temperature_F  Mean_Temperature_F  Min_TemperatureF  \\\n",
       "0  10/13/2014                 71                62.0                54   \n",
       "1  10/14/2014                 63                59.0                55   \n",
       "2  10/15/2014                 62                58.0                54   \n",
       "3  10/16/2014                 71                61.0                52   \n",
       "4  10/17/2014                 64                60.0                57   \n",
       "\n",
       "   Max_Dew_Point_F  MeanDew_Point_F  Min_Dewpoint_F  Max_Humidity  \\\n",
       "0               55               51              46            87   \n",
       "1               52               51              50            88   \n",
       "2               53               50              46            87   \n",
       "3               49               46              42            83   \n",
       "4               55               51              41            87   \n",
       "\n",
       "   Mean_Humidity  Min_Humidity  ...  Mean_Sea_Level_Pressure_In  \\\n",
       "0             68            46  ...                       29.79   \n",
       "1             78            63  ...                       29.75   \n",
       "2             77            67  ...                       29.71   \n",
       "3             61            36  ...                       29.95   \n",
       "4             72            46  ...                       29.78   \n",
       "\n",
       "   Min_Sea_Level_Pressure_In  Max_Visibility_Miles  Mean_Visibility_Miles  \\\n",
       "0                      29.65                    10                     10   \n",
       "1                      29.54                    10                      9   \n",
       "2                      29.51                    10                      9   \n",
       "3                      29.81                    10                     10   \n",
       "4                      29.73                    10                     10   \n",
       "\n",
       "   Min_Visibility_Miles  Max_Wind_Speed_MPH  Mean_Wind_Speed_MPH  \\\n",
       "0                     4                  13                    4   \n",
       "1                     3                  10                    5   \n",
       "2                     3                  18                    7   \n",
       "3                    10                   9                    4   \n",
       "4                     6                   8                    3   \n",
       "\n",
       "   Max_Gust_Speed_MPH Precipitation_In  Events  \n",
       "0                  21             0.00    Rain  \n",
       "1                  17             0.11    Rain  \n",
       "2                  25             0.45    Rain  \n",
       "3                   -             0.00    Rain  \n",
       "4                   -             0.14    Rain  \n",
       "\n",
       "[5 rows x 21 columns]"
      ],
      "text/html": "<div>\n<style scoped>\n    .dataframe tbody tr th:only-of-type {\n        vertical-align: middle;\n    }\n\n    .dataframe tbody tr th {\n        vertical-align: top;\n    }\n\n    .dataframe thead th {\n        text-align: right;\n    }\n</style>\n<table border=\"1\" class=\"dataframe\">\n  <thead>\n    <tr style=\"text-align: right;\">\n      <th></th>\n      <th>Date</th>\n      <th>Max_Temperature_F</th>\n      <th>Mean_Temperature_F</th>\n      <th>Min_TemperatureF</th>\n      <th>Max_Dew_Point_F</th>\n      <th>MeanDew_Point_F</th>\n      <th>Min_Dewpoint_F</th>\n      <th>Max_Humidity</th>\n      <th>Mean_Humidity</th>\n      <th>Min_Humidity</th>\n      <th>...</th>\n      <th>Mean_Sea_Level_Pressure_In</th>\n      <th>Min_Sea_Level_Pressure_In</th>\n      <th>Max_Visibility_Miles</th>\n      <th>Mean_Visibility_Miles</th>\n      <th>Min_Visibility_Miles</th>\n      <th>Max_Wind_Speed_MPH</th>\n      <th>Mean_Wind_Speed_MPH</th>\n      <th>Max_Gust_Speed_MPH</th>\n      <th>Precipitation_In</th>\n      <th>Events</th>\n    </tr>\n  </thead>\n  <tbody>\n    <tr>\n      <th>0</th>\n      <td>10/13/2014</td>\n      <td>71</td>\n      <td>62.0</td>\n      <td>54</td>\n      <td>55</td>\n      <td>51</td>\n      <td>46</td>\n      <td>87</td>\n      <td>68</td>\n      <td>46</td>\n      <td>...</td>\n      <td>29.79</td>\n      <td>29.65</td>\n      <td>10</td>\n      <td>10</td>\n      <td>4</td>\n      <td>13</td>\n      <td>4</td>\n      <td>21</td>\n      <td>0.00</td>\n      <td>Rain</td>\n    </tr>\n    <tr>\n      <th>1</th>\n      <td>10/14/2014</td>\n      <td>63</td>\n      <td>59.0</td>\n      <td>55</td>\n      <td>52</td>\n      <td>51</td>\n      <td>50</td>\n      <td>88</td>\n      <td>78</td>\n      <td>63</td>\n      <td>...</td>\n      <td>29.75</td>\n      <td>29.54</td>\n      <td>10</td>\n      <td>9</td>\n      <td>3</td>\n      <td>10</td>\n      <td>5</td>\n      <td>17</td>\n      <td>0.11</td>\n      <td>Rain</td>\n    </tr>\n    <tr>\n      <th>2</th>\n      <td>10/15/2014</td>\n      <td>62</td>\n      <td>58.0</td>\n      <td>54</td>\n      <td>53</td>\n      <td>50</td>\n      <td>46</td>\n      <td>87</td>\n      <td>77</td>\n      <td>67</td>\n      <td>...</td>\n      <td>29.71</td>\n      <td>29.51</td>\n      <td>10</td>\n      <td>9</td>\n      <td>3</td>\n      <td>18</td>\n      <td>7</td>\n      <td>25</td>\n      <td>0.45</td>\n      <td>Rain</td>\n    </tr>\n    <tr>\n      <th>3</th>\n      <td>10/16/2014</td>\n      <td>71</td>\n      <td>61.0</td>\n      <td>52</td>\n      <td>49</td>\n      <td>46</td>\n      <td>42</td>\n      <td>83</td>\n      <td>61</td>\n      <td>36</td>\n      <td>...</td>\n      <td>29.95</td>\n      <td>29.81</td>\n      <td>10</td>\n      <td>10</td>\n      <td>10</td>\n      <td>9</td>\n      <td>4</td>\n      <td>-</td>\n      <td>0.00</td>\n      <td>Rain</td>\n    </tr>\n    <tr>\n      <th>4</th>\n      <td>10/17/2014</td>\n      <td>64</td>\n      <td>60.0</td>\n      <td>57</td>\n      <td>55</td>\n      <td>51</td>\n      <td>41</td>\n      <td>87</td>\n      <td>72</td>\n      <td>46</td>\n      <td>...</td>\n      <td>29.78</td>\n      <td>29.73</td>\n      <td>10</td>\n      <td>10</td>\n      <td>6</td>\n      <td>8</td>\n      <td>3</td>\n      <td>-</td>\n      <td>0.14</td>\n      <td>Rain</td>\n    </tr>\n  </tbody>\n</table>\n<p>5 rows × 21 columns</p>\n</div>"
     },
     "metadata": {},
     "execution_count": 35
    }
   ],
   "source": [
    "weather = pd.read_csv('./weather.csv', error_bad_lines=False)\n",
    "weather.head()"
   ]
  },
  {
   "cell_type": "code",
   "execution_count": 47,
   "metadata": {},
   "outputs": [
    {
     "output_type": "execute_result",
     "data": {
      "text/plain": [
       "   station_id                                    name        lat        long  \\\n",
       "0       BT-01                      3rd Ave & Broad St  47.618418 -122.350964   \n",
       "1       BT-03                       2nd Ave & Vine St  47.615829 -122.348564   \n",
       "2       BT-04                  6th Ave & Blanchard St  47.616094 -122.341102   \n",
       "3       BT-05                  2nd Ave & Blanchard St  47.613110 -122.344208   \n",
       "4      CBD-03                      7th Ave & Union St  47.610731 -122.332447   \n",
       "5      CBD-04                      Union St & 4th Ave  47.609221 -122.335596   \n",
       "6      CBD-05                     1st Ave & Marion St  47.604058 -122.335800   \n",
       "7      CBD-06                     2nd Ave & Spring St  47.605950 -122.335768   \n",
       "8      CBD-07          City Hall / 4th Ave & James St  47.603509 -122.330409   \n",
       "9      CBD-13                       2nd Ave & Pine St  47.610185 -122.339641   \n",
       "10      CD-01                 12th Ave & E Yesler Way  47.602103 -122.316923   \n",
       "11      CH-01                Summit Ave & E Denny Way  47.618633 -122.325249   \n",
       "12      CH-02          E Harrison St & Broadway Ave E  47.622063 -122.321251   \n",
       "13      CH-03          Summit Ave E & E Republican St  47.623367 -122.325279   \n",
       "14      CH-05                15th Ave E & E Thomas St  47.620712 -122.312805   \n",
       "15      CH-06                  12th Ave & E Denny Way  47.618549 -122.317017   \n",
       "16      CH-07                    E Pine St & 16th Ave  47.615330 -122.311752   \n",
       "17      CH-08  Cal Anderson Park / 11th Ave & Pine St  47.615486 -122.318245   \n",
       "18      CH-09                 Harvard Ave & E Pine St  47.615517 -122.322083   \n",
       "19      CH-12                Bellevue Ave & E Pine St  47.615456 -122.326729   \n",
       "\n",
       "   install_date  install_dockcount modification_date  current_dockcount  \\\n",
       "0    10/13/2014                 18               NaN                 18   \n",
       "1    10/13/2014                 16               NaN                 16   \n",
       "2    10/13/2014                 16               NaN                 16   \n",
       "3    10/13/2014                 14               NaN                 14   \n",
       "4    10/13/2014                 20               NaN                 20   \n",
       "5     7/27/2015                 18               NaN                 18   \n",
       "6    10/13/2014                 20               NaN                 20   \n",
       "7    10/13/2014                 20         11/9/2015                 18   \n",
       "8    10/13/2014                 20               NaN                 20   \n",
       "9    10/13/2014                 18               NaN                 18   \n",
       "10    5/22/2015                 16          8/9/2016                  0   \n",
       "11   10/13/2014                 16               NaN                 16   \n",
       "12   10/13/2014                 18         2/24/2015                 20   \n",
       "13   10/13/2014                 16               NaN                 16   \n",
       "14   10/13/2014                 16               NaN                 16   \n",
       "15   10/13/2014                 16               NaN                 16   \n",
       "16   10/13/2014                 18               NaN                 18   \n",
       "17   10/13/2014                 28         2/24/2015                 26   \n",
       "18   10/13/2014                 16               NaN                 16   \n",
       "19   10/13/2014                 18               NaN                 14   \n",
       "\n",
       "   decommission_date  \n",
       "0                NaN  \n",
       "1                NaN  \n",
       "2                NaN  \n",
       "3                NaN  \n",
       "4                NaN  \n",
       "5                NaN  \n",
       "6                NaN  \n",
       "7                NaN  \n",
       "8                NaN  \n",
       "9                NaN  \n",
       "10          8/9/2016  \n",
       "11               NaN  \n",
       "12               NaN  \n",
       "13               NaN  \n",
       "14               NaN  \n",
       "15               NaN  \n",
       "16               NaN  \n",
       "17               NaN  \n",
       "18               NaN  \n",
       "19               NaN  "
      ],
      "text/html": "<div>\n<style scoped>\n    .dataframe tbody tr th:only-of-type {\n        vertical-align: middle;\n    }\n\n    .dataframe tbody tr th {\n        vertical-align: top;\n    }\n\n    .dataframe thead th {\n        text-align: right;\n    }\n</style>\n<table border=\"1\" class=\"dataframe\">\n  <thead>\n    <tr style=\"text-align: right;\">\n      <th></th>\n      <th>station_id</th>\n      <th>name</th>\n      <th>lat</th>\n      <th>long</th>\n      <th>install_date</th>\n      <th>install_dockcount</th>\n      <th>modification_date</th>\n      <th>current_dockcount</th>\n      <th>decommission_date</th>\n    </tr>\n  </thead>\n  <tbody>\n    <tr>\n      <th>0</th>\n      <td>BT-01</td>\n      <td>3rd Ave &amp; Broad St</td>\n      <td>47.618418</td>\n      <td>-122.350964</td>\n      <td>10/13/2014</td>\n      <td>18</td>\n      <td>NaN</td>\n      <td>18</td>\n      <td>NaN</td>\n    </tr>\n    <tr>\n      <th>1</th>\n      <td>BT-03</td>\n      <td>2nd Ave &amp; Vine St</td>\n      <td>47.615829</td>\n      <td>-122.348564</td>\n      <td>10/13/2014</td>\n      <td>16</td>\n      <td>NaN</td>\n      <td>16</td>\n      <td>NaN</td>\n    </tr>\n    <tr>\n      <th>2</th>\n      <td>BT-04</td>\n      <td>6th Ave &amp; Blanchard St</td>\n      <td>47.616094</td>\n      <td>-122.341102</td>\n      <td>10/13/2014</td>\n      <td>16</td>\n      <td>NaN</td>\n      <td>16</td>\n      <td>NaN</td>\n    </tr>\n    <tr>\n      <th>3</th>\n      <td>BT-05</td>\n      <td>2nd Ave &amp; Blanchard St</td>\n      <td>47.613110</td>\n      <td>-122.344208</td>\n      <td>10/13/2014</td>\n      <td>14</td>\n      <td>NaN</td>\n      <td>14</td>\n      <td>NaN</td>\n    </tr>\n    <tr>\n      <th>4</th>\n      <td>CBD-03</td>\n      <td>7th Ave &amp; Union St</td>\n      <td>47.610731</td>\n      <td>-122.332447</td>\n      <td>10/13/2014</td>\n      <td>20</td>\n      <td>NaN</td>\n      <td>20</td>\n      <td>NaN</td>\n    </tr>\n    <tr>\n      <th>5</th>\n      <td>CBD-04</td>\n      <td>Union St &amp; 4th Ave</td>\n      <td>47.609221</td>\n      <td>-122.335596</td>\n      <td>7/27/2015</td>\n      <td>18</td>\n      <td>NaN</td>\n      <td>18</td>\n      <td>NaN</td>\n    </tr>\n    <tr>\n      <th>6</th>\n      <td>CBD-05</td>\n      <td>1st Ave &amp; Marion St</td>\n      <td>47.604058</td>\n      <td>-122.335800</td>\n      <td>10/13/2014</td>\n      <td>20</td>\n      <td>NaN</td>\n      <td>20</td>\n      <td>NaN</td>\n    </tr>\n    <tr>\n      <th>7</th>\n      <td>CBD-06</td>\n      <td>2nd Ave &amp; Spring St</td>\n      <td>47.605950</td>\n      <td>-122.335768</td>\n      <td>10/13/2014</td>\n      <td>20</td>\n      <td>11/9/2015</td>\n      <td>18</td>\n      <td>NaN</td>\n    </tr>\n    <tr>\n      <th>8</th>\n      <td>CBD-07</td>\n      <td>City Hall / 4th Ave &amp; James St</td>\n      <td>47.603509</td>\n      <td>-122.330409</td>\n      <td>10/13/2014</td>\n      <td>20</td>\n      <td>NaN</td>\n      <td>20</td>\n      <td>NaN</td>\n    </tr>\n    <tr>\n      <th>9</th>\n      <td>CBD-13</td>\n      <td>2nd Ave &amp; Pine St</td>\n      <td>47.610185</td>\n      <td>-122.339641</td>\n      <td>10/13/2014</td>\n      <td>18</td>\n      <td>NaN</td>\n      <td>18</td>\n      <td>NaN</td>\n    </tr>\n    <tr>\n      <th>10</th>\n      <td>CD-01</td>\n      <td>12th Ave &amp; E Yesler Way</td>\n      <td>47.602103</td>\n      <td>-122.316923</td>\n      <td>5/22/2015</td>\n      <td>16</td>\n      <td>8/9/2016</td>\n      <td>0</td>\n      <td>8/9/2016</td>\n    </tr>\n    <tr>\n      <th>11</th>\n      <td>CH-01</td>\n      <td>Summit Ave &amp; E Denny Way</td>\n      <td>47.618633</td>\n      <td>-122.325249</td>\n      <td>10/13/2014</td>\n      <td>16</td>\n      <td>NaN</td>\n      <td>16</td>\n      <td>NaN</td>\n    </tr>\n    <tr>\n      <th>12</th>\n      <td>CH-02</td>\n      <td>E Harrison St &amp; Broadway Ave E</td>\n      <td>47.622063</td>\n      <td>-122.321251</td>\n      <td>10/13/2014</td>\n      <td>18</td>\n      <td>2/24/2015</td>\n      <td>20</td>\n      <td>NaN</td>\n    </tr>\n    <tr>\n      <th>13</th>\n      <td>CH-03</td>\n      <td>Summit Ave E &amp; E Republican St</td>\n      <td>47.623367</td>\n      <td>-122.325279</td>\n      <td>10/13/2014</td>\n      <td>16</td>\n      <td>NaN</td>\n      <td>16</td>\n      <td>NaN</td>\n    </tr>\n    <tr>\n      <th>14</th>\n      <td>CH-05</td>\n      <td>15th Ave E &amp; E Thomas St</td>\n      <td>47.620712</td>\n      <td>-122.312805</td>\n      <td>10/13/2014</td>\n      <td>16</td>\n      <td>NaN</td>\n      <td>16</td>\n      <td>NaN</td>\n    </tr>\n    <tr>\n      <th>15</th>\n      <td>CH-06</td>\n      <td>12th Ave &amp; E Denny Way</td>\n      <td>47.618549</td>\n      <td>-122.317017</td>\n      <td>10/13/2014</td>\n      <td>16</td>\n      <td>NaN</td>\n      <td>16</td>\n      <td>NaN</td>\n    </tr>\n    <tr>\n      <th>16</th>\n      <td>CH-07</td>\n      <td>E Pine St &amp; 16th Ave</td>\n      <td>47.615330</td>\n      <td>-122.311752</td>\n      <td>10/13/2014</td>\n      <td>18</td>\n      <td>NaN</td>\n      <td>18</td>\n      <td>NaN</td>\n    </tr>\n    <tr>\n      <th>17</th>\n      <td>CH-08</td>\n      <td>Cal Anderson Park / 11th Ave &amp; Pine St</td>\n      <td>47.615486</td>\n      <td>-122.318245</td>\n      <td>10/13/2014</td>\n      <td>28</td>\n      <td>2/24/2015</td>\n      <td>26</td>\n      <td>NaN</td>\n    </tr>\n    <tr>\n      <th>18</th>\n      <td>CH-09</td>\n      <td>Harvard Ave &amp; E Pine St</td>\n      <td>47.615517</td>\n      <td>-122.322083</td>\n      <td>10/13/2014</td>\n      <td>16</td>\n      <td>NaN</td>\n      <td>16</td>\n      <td>NaN</td>\n    </tr>\n    <tr>\n      <th>19</th>\n      <td>CH-12</td>\n      <td>Bellevue Ave &amp; E Pine St</td>\n      <td>47.615456</td>\n      <td>-122.326729</td>\n      <td>10/13/2014</td>\n      <td>18</td>\n      <td>NaN</td>\n      <td>14</td>\n      <td>NaN</td>\n    </tr>\n  </tbody>\n</table>\n</div>"
     },
     "metadata": {},
     "execution_count": 47
    }
   ],
   "source": [
    "station = pd.read_csv('./station.csv', error_bad_lines=False)\n",
    "station.head()"
   ]
  },
  {
   "cell_type": "code",
   "execution_count": 32,
   "metadata": {},
   "outputs": [
    {
     "output_type": "stream",
     "name": "stdout",
     "text": [
      "The average trip duration is 19.64 minutes\n"
     ]
    }
   ],
   "source": [
    "average_duration_sec = trip['tripduration'].mean()\n",
    "average_duration_min = (average_duration_sec/60).round(2)\n",
    "print(f'The average trip duration is {average_duration_min} minutes')"
   ]
  },
  {
   "cell_type": "code",
   "execution_count": 37,
   "metadata": {},
   "outputs": [
    {
     "output_type": "execute_result",
     "data": {
      "text/plain": [
       "28.0"
      ]
     },
     "metadata": {},
     "execution_count": 37
    }
   ],
   "source": [
    "common_year = trip['birthyear'].mode()[0]\n",
    "avg_age = 2015 - common_year\n",
    "avg_age"
   ]
  },
  {
   "cell_type": "code",
   "execution_count": 41,
   "metadata": {},
   "outputs": [
    {
     "output_type": "stream",
     "name": "stdout",
     "text": [
      "Average precipitation is 3.15 inches per month\n"
     ]
    }
   ],
   "source": [
    "rain = weather['Precipitation_In'].mean()\n",
    "monthly = rain * 30\n",
    "print(f'Average precipitation is {monthly.round(2)} inches per month')"
   ]
  },
  {
   "cell_type": "code",
   "execution_count": 43,
   "metadata": {},
   "outputs": [
    {
     "output_type": "stream",
     "name": "stdout",
     "text": [
      "Meidan precipitation per day is 0.0 inches\n"
     ]
    }
   ],
   "source": [
    "rain_med = weather['Precipitation_In'].median()\n",
    "\n",
    "print(f'Meidan precipitation per day is {rain_med.round(5)} inches')"
   ]
  },
  {
   "cell_type": "code",
   "execution_count": 45,
   "metadata": {},
   "outputs": [
    {
     "output_type": "execute_result",
     "data": {
      "text/plain": [
       "17.0"
      ]
     },
     "metadata": {},
     "execution_count": 45
    }
   ],
   "source": [
    "avg_bikes = station['current_dockcount'].mean()\n",
    "avg_bikes.round(0)"
   ]
  },
  {
   "cell_type": "code",
   "execution_count": 68,
   "metadata": {},
   "outputs": [
    {
     "output_type": "stream",
     "name": "stdout",
     "text": [
      "9\n0\n"
     ]
    },
    {
     "output_type": "execute_result",
     "data": {
      "text/plain": [
       "   station_id                                               name        lat  \\\n",
       "7      CBD-06                                2nd Ave & Spring St  47.605950   \n",
       "10      CD-01                            12th Ave & E Yesler Way  47.602103   \n",
       "12      CH-02                     E Harrison St & Broadway Ave E  47.622063   \n",
       "17      CH-08             Cal Anderson Park / 11th Ave & Pine St  47.615486   \n",
       "22     DPD-03  Children's Hospital / Sandpoint Way NE & 40th ...  47.663509   \n",
       "23      EL-01  Fred Hutchinson Cancer Research Center / Fairv...  47.627643   \n",
       "26      FH-01          Frye Art Museum / Terry Ave & Columbia St  47.607281   \n",
       "31     SLU-01                         REI / Yale Ave N & John St  47.619859   \n",
       "35     SLU-15                             Westlake Ave & 6th Ave  47.613628   \n",
       "37     SLU-17          Lake Union Park / Valley St & Boren Ave N  47.626041   \n",
       "38     SLU-18                             Dexter Ave & Denny Way  47.618285   \n",
       "39     SLU-19                Key Arena / 1st Ave N & Harrison St  47.622277   \n",
       "46      UW-01                       UW McCarty Hall / Whitman Ct  47.660268   \n",
       "47      UW-02  Burke Museum / E Stevens Way NE & Memorial Way NE  47.659756   \n",
       "48      UW-04                           15th Ave NE & NE 40th St  47.655590   \n",
       "49      UW-06  UW Engineering Library / E Stevens Way NE & Je...  47.654613   \n",
       "50      UW-07                  UW Intramural Activities Building  47.653713   \n",
       "\n",
       "          long install_date  install_dockcount modification_date  \\\n",
       "7  -122.335768   10/13/2014                 20         11/9/2015   \n",
       "10 -122.316923    5/22/2015                 16          8/9/2016   \n",
       "12 -122.321251   10/13/2014                 18         2/24/2015   \n",
       "17 -122.318245   10/13/2014                 28         2/24/2015   \n",
       "22 -122.284119   10/13/2014                 30         3/24/2015   \n",
       "23 -122.332576   10/13/2014                 12         3/27/2015   \n",
       "26 -122.324783   10/13/2014                 16         3/18/2016   \n",
       "31 -122.330304   10/13/2014                 18         2/24/2015   \n",
       "35 -122.337341   10/13/2014                 12         3/13/2015   \n",
       "37 -122.335831   10/13/2014                 18         2/23/2015   \n",
       "38 -122.342205   10/13/2014                 20         11/2/2015   \n",
       "39 -122.355230   10/13/2014                 12          3/4/2015   \n",
       "46 -122.304826   10/13/2014                 16        10/29/2015   \n",
       "47 -122.310402   10/13/2014                 12         2/20/2015   \n",
       "48 -122.311890   10/13/2014                 18         2/20/2015   \n",
       "49 -122.304863   10/13/2014                 12         2/20/2015   \n",
       "50 -122.302162   10/13/2014                 20         2/20/2015   \n",
       "\n",
       "    current_dockcount decommission_date  \n",
       "7                  18               NaN  \n",
       "10                  0          8/9/2016  \n",
       "12                 20               NaN  \n",
       "17                 26               NaN  \n",
       "22                 24               NaN  \n",
       "23                 16               NaN  \n",
       "26                  0         3/18/2016  \n",
       "31                 20               NaN  \n",
       "35                 20               NaN  \n",
       "37                 16               NaN  \n",
       "38                  0          7/2/2016  \n",
       "39                 16               NaN  \n",
       "46                  0        10/29/2015  \n",
       "47                 14               NaN  \n",
       "48                 16               NaN  \n",
       "49                 14               NaN  \n",
       "50                 14               NaN  "
      ],
      "text/html": "<div>\n<style scoped>\n    .dataframe tbody tr th:only-of-type {\n        vertical-align: middle;\n    }\n\n    .dataframe tbody tr th {\n        vertical-align: top;\n    }\n\n    .dataframe thead th {\n        text-align: right;\n    }\n</style>\n<table border=\"1\" class=\"dataframe\">\n  <thead>\n    <tr style=\"text-align: right;\">\n      <th></th>\n      <th>station_id</th>\n      <th>name</th>\n      <th>lat</th>\n      <th>long</th>\n      <th>install_date</th>\n      <th>install_dockcount</th>\n      <th>modification_date</th>\n      <th>current_dockcount</th>\n      <th>decommission_date</th>\n    </tr>\n  </thead>\n  <tbody>\n    <tr>\n      <th>7</th>\n      <td>CBD-06</td>\n      <td>2nd Ave &amp; Spring St</td>\n      <td>47.605950</td>\n      <td>-122.335768</td>\n      <td>10/13/2014</td>\n      <td>20</td>\n      <td>11/9/2015</td>\n      <td>18</td>\n      <td>NaN</td>\n    </tr>\n    <tr>\n      <th>10</th>\n      <td>CD-01</td>\n      <td>12th Ave &amp; E Yesler Way</td>\n      <td>47.602103</td>\n      <td>-122.316923</td>\n      <td>5/22/2015</td>\n      <td>16</td>\n      <td>8/9/2016</td>\n      <td>0</td>\n      <td>8/9/2016</td>\n    </tr>\n    <tr>\n      <th>12</th>\n      <td>CH-02</td>\n      <td>E Harrison St &amp; Broadway Ave E</td>\n      <td>47.622063</td>\n      <td>-122.321251</td>\n      <td>10/13/2014</td>\n      <td>18</td>\n      <td>2/24/2015</td>\n      <td>20</td>\n      <td>NaN</td>\n    </tr>\n    <tr>\n      <th>17</th>\n      <td>CH-08</td>\n      <td>Cal Anderson Park / 11th Ave &amp; Pine St</td>\n      <td>47.615486</td>\n      <td>-122.318245</td>\n      <td>10/13/2014</td>\n      <td>28</td>\n      <td>2/24/2015</td>\n      <td>26</td>\n      <td>NaN</td>\n    </tr>\n    <tr>\n      <th>22</th>\n      <td>DPD-03</td>\n      <td>Children's Hospital / Sandpoint Way NE &amp; 40th ...</td>\n      <td>47.663509</td>\n      <td>-122.284119</td>\n      <td>10/13/2014</td>\n      <td>30</td>\n      <td>3/24/2015</td>\n      <td>24</td>\n      <td>NaN</td>\n    </tr>\n    <tr>\n      <th>23</th>\n      <td>EL-01</td>\n      <td>Fred Hutchinson Cancer Research Center / Fairv...</td>\n      <td>47.627643</td>\n      <td>-122.332576</td>\n      <td>10/13/2014</td>\n      <td>12</td>\n      <td>3/27/2015</td>\n      <td>16</td>\n      <td>NaN</td>\n    </tr>\n    <tr>\n      <th>26</th>\n      <td>FH-01</td>\n      <td>Frye Art Museum / Terry Ave &amp; Columbia St</td>\n      <td>47.607281</td>\n      <td>-122.324783</td>\n      <td>10/13/2014</td>\n      <td>16</td>\n      <td>3/18/2016</td>\n      <td>0</td>\n      <td>3/18/2016</td>\n    </tr>\n    <tr>\n      <th>31</th>\n      <td>SLU-01</td>\n      <td>REI / Yale Ave N &amp; John St</td>\n      <td>47.619859</td>\n      <td>-122.330304</td>\n      <td>10/13/2014</td>\n      <td>18</td>\n      <td>2/24/2015</td>\n      <td>20</td>\n      <td>NaN</td>\n    </tr>\n    <tr>\n      <th>35</th>\n      <td>SLU-15</td>\n      <td>Westlake Ave &amp; 6th Ave</td>\n      <td>47.613628</td>\n      <td>-122.337341</td>\n      <td>10/13/2014</td>\n      <td>12</td>\n      <td>3/13/2015</td>\n      <td>20</td>\n      <td>NaN</td>\n    </tr>\n    <tr>\n      <th>37</th>\n      <td>SLU-17</td>\n      <td>Lake Union Park / Valley St &amp; Boren Ave N</td>\n      <td>47.626041</td>\n      <td>-122.335831</td>\n      <td>10/13/2014</td>\n      <td>18</td>\n      <td>2/23/2015</td>\n      <td>16</td>\n      <td>NaN</td>\n    </tr>\n    <tr>\n      <th>38</th>\n      <td>SLU-18</td>\n      <td>Dexter Ave &amp; Denny Way</td>\n      <td>47.618285</td>\n      <td>-122.342205</td>\n      <td>10/13/2014</td>\n      <td>20</td>\n      <td>11/2/2015</td>\n      <td>0</td>\n      <td>7/2/2016</td>\n    </tr>\n    <tr>\n      <th>39</th>\n      <td>SLU-19</td>\n      <td>Key Arena / 1st Ave N &amp; Harrison St</td>\n      <td>47.622277</td>\n      <td>-122.355230</td>\n      <td>10/13/2014</td>\n      <td>12</td>\n      <td>3/4/2015</td>\n      <td>16</td>\n      <td>NaN</td>\n    </tr>\n    <tr>\n      <th>46</th>\n      <td>UW-01</td>\n      <td>UW McCarty Hall / Whitman Ct</td>\n      <td>47.660268</td>\n      <td>-122.304826</td>\n      <td>10/13/2014</td>\n      <td>16</td>\n      <td>10/29/2015</td>\n      <td>0</td>\n      <td>10/29/2015</td>\n    </tr>\n    <tr>\n      <th>47</th>\n      <td>UW-02</td>\n      <td>Burke Museum / E Stevens Way NE &amp; Memorial Way NE</td>\n      <td>47.659756</td>\n      <td>-122.310402</td>\n      <td>10/13/2014</td>\n      <td>12</td>\n      <td>2/20/2015</td>\n      <td>14</td>\n      <td>NaN</td>\n    </tr>\n    <tr>\n      <th>48</th>\n      <td>UW-04</td>\n      <td>15th Ave NE &amp; NE 40th St</td>\n      <td>47.655590</td>\n      <td>-122.311890</td>\n      <td>10/13/2014</td>\n      <td>18</td>\n      <td>2/20/2015</td>\n      <td>16</td>\n      <td>NaN</td>\n    </tr>\n    <tr>\n      <th>49</th>\n      <td>UW-06</td>\n      <td>UW Engineering Library / E Stevens Way NE &amp; Je...</td>\n      <td>47.654613</td>\n      <td>-122.304863</td>\n      <td>10/13/2014</td>\n      <td>12</td>\n      <td>2/20/2015</td>\n      <td>14</td>\n      <td>NaN</td>\n    </tr>\n    <tr>\n      <th>50</th>\n      <td>UW-07</td>\n      <td>UW Intramural Activities Building</td>\n      <td>47.653713</td>\n      <td>-122.302162</td>\n      <td>10/13/2014</td>\n      <td>20</td>\n      <td>2/20/2015</td>\n      <td>14</td>\n      <td>NaN</td>\n    </tr>\n  </tbody>\n</table>\n</div>"
     },
     "metadata": {},
     "execution_count": 68
    }
   ],
   "source": [
    "filter_NaN = station[station['modification_date'].notnull()]\n",
    "\n",
    "increase = 0\n",
    "decrease = 0\n",
    "for i in filter_NaN:\n",
    "    if station['install_dockcount'][0] > station['current_dockcount'][0]:\n",
    "        decrease += 1\n",
    "    else: \n",
    "        increase +=1\n",
    "\n",
    "print(increase)\n",
    "print(decrease)\n",
    "filter_NaN"
   ]
  },
  {
   "cell_type": "code",
   "execution_count": null,
   "metadata": {},
   "outputs": [],
   "source": []
  }
 ]
}